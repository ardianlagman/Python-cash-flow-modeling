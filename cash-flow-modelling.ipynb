{
 "cells": [
  {
   "cell_type": "code",
   "execution_count": 6,
   "metadata": {},
   "outputs": [],
   "source": [
    "#Setting up libraries and importing data\n",
    "\n",
    "import pandas as pd \n",
    "import numpy as np\n",
    "\n",
    "loanbook = pd.read_csv(\"loanbook.csv\", sep = \"|\")\n",
    "cpr = pd.read_csv(\"cpr.csv\", sep = \"|\")\n",
    "erc_lookup = pd.read_csv(\"erc.csv\", sep = \"|\")"
   ]
  },
  {
   "cell_type": "code",
   "execution_count": 7,
   "metadata": {},
   "outputs": [
    {
     "output_type": "execute_result",
     "data": {
      "text/plain": "   loan_id    product  rate_term  ... upfront_fees upfront_costs  adjust Nov-21\n0        0  Product A         19  ...         6000          3400            400\n1        1  Product B         24  ...         3000          3000           1000\n2        2  Product C         37  ...         6000          2800           1000\n3        3  Product D         44  ...         6000          3400            600\n4        4  Product E         18  ...         5000          2600            400\n\n[5 rows x 13 columns]",
      "text/html": "<div>\n<style scoped>\n    .dataframe tbody tr th:only-of-type {\n        vertical-align: middle;\n    }\n\n    .dataframe tbody tr th {\n        vertical-align: top;\n    }\n\n    .dataframe thead th {\n        text-align: right;\n    }\n</style>\n<table border=\"1\" class=\"dataframe\">\n  <thead>\n    <tr style=\"text-align: right;\">\n      <th></th>\n      <th>loan_id</th>\n      <th>product</th>\n      <th>rate_term</th>\n      <th>origination_date</th>\n      <th>reversion_date</th>\n      <th>loan_amount</th>\n      <th>initial_rate</th>\n      <th>reversion_rate</th>\n      <th>term</th>\n      <th>interest_only_amount</th>\n      <th>upfront_fees</th>\n      <th>upfront_costs</th>\n      <th>adjust Nov-21</th>\n    </tr>\n  </thead>\n  <tbody>\n    <tr>\n      <td>0</td>\n      <td>0</td>\n      <td>Product A</td>\n      <td>19</td>\n      <td>2019-11-10</td>\n      <td>2021-06-10</td>\n      <td>4823742.87</td>\n      <td>0.12</td>\n      <td>0.20</td>\n      <td>118</td>\n      <td>0</td>\n      <td>6000</td>\n      <td>3400</td>\n      <td>400</td>\n    </tr>\n    <tr>\n      <td>1</td>\n      <td>1</td>\n      <td>Product B</td>\n      <td>24</td>\n      <td>2021-02-17</td>\n      <td>2023-02-17</td>\n      <td>67850.94</td>\n      <td>0.15</td>\n      <td>0.18</td>\n      <td>76</td>\n      <td>0</td>\n      <td>3000</td>\n      <td>3000</td>\n      <td>1000</td>\n    </tr>\n    <tr>\n      <td>2</td>\n      <td>2</td>\n      <td>Product C</td>\n      <td>37</td>\n      <td>2019-11-24</td>\n      <td>2022-12-24</td>\n      <td>4470382.34</td>\n      <td>0.11</td>\n      <td>0.18</td>\n      <td>79</td>\n      <td>0</td>\n      <td>6000</td>\n      <td>2800</td>\n      <td>1000</td>\n    </tr>\n    <tr>\n      <td>3</td>\n      <td>3</td>\n      <td>Product D</td>\n      <td>44</td>\n      <td>2021-02-01</td>\n      <td>2024-10-01</td>\n      <td>155836.09</td>\n      <td>0.11</td>\n      <td>0.14</td>\n      <td>97</td>\n      <td>0</td>\n      <td>6000</td>\n      <td>3400</td>\n      <td>600</td>\n    </tr>\n    <tr>\n      <td>4</td>\n      <td>4</td>\n      <td>Product E</td>\n      <td>18</td>\n      <td>2020-02-16</td>\n      <td>2021-08-16</td>\n      <td>146592.93</td>\n      <td>0.10</td>\n      <td>0.14</td>\n      <td>120</td>\n      <td>0</td>\n      <td>5000</td>\n      <td>2600</td>\n      <td>400</td>\n    </tr>\n  </tbody>\n</table>\n</div>"
     },
     "metadata": {},
     "execution_count": 7
    }
   ],
   "source": [
    "loanbook.head()"
   ]
  },
  {
   "cell_type": "code",
   "execution_count": 8,
   "metadata": {},
   "outputs": [
    {
     "output_type": "execute_result",
     "data": {
      "text/plain": "     Product  0  1         2  ...       117       118       119  120\n0  Product A  1  1  0.974277  ...  0.000000  0.000000  0.000000  0.0\n1  Product B  1  1  0.965001  ...  0.000000  0.000000  0.000000  0.0\n2  Product C  1  1  0.990667  ...  0.000000  0.000000  0.000000  0.0\n3  Product D  1  1  0.967297  ...  0.062664  0.037634  0.037734  0.0\n4  Product E  1  1  0.987182  ...  0.000000  0.000000  0.000000  0.0\n\n[5 rows x 122 columns]",
      "text/html": "<div>\n<style scoped>\n    .dataframe tbody tr th:only-of-type {\n        vertical-align: middle;\n    }\n\n    .dataframe tbody tr th {\n        vertical-align: top;\n    }\n\n    .dataframe thead th {\n        text-align: right;\n    }\n</style>\n<table border=\"1\" class=\"dataframe\">\n  <thead>\n    <tr style=\"text-align: right;\">\n      <th></th>\n      <th>Product</th>\n      <th>0</th>\n      <th>1</th>\n      <th>2</th>\n      <th>3</th>\n      <th>4</th>\n      <th>5</th>\n      <th>6</th>\n      <th>7</th>\n      <th>8</th>\n      <th>9</th>\n      <th>10</th>\n      <th>11</th>\n      <th>12</th>\n      <th>13</th>\n      <th>14</th>\n      <th>15</th>\n      <th>16</th>\n      <th>17</th>\n      <th>18</th>\n      <th>19</th>\n      <th>20</th>\n      <th>21</th>\n      <th>22</th>\n      <th>23</th>\n      <th>24</th>\n      <th>25</th>\n      <th>26</th>\n      <th>27</th>\n      <th>28</th>\n      <th>29</th>\n      <th>30</th>\n      <th>31</th>\n      <th>32</th>\n      <th>33</th>\n      <th>34</th>\n      <th>35</th>\n      <th>36</th>\n      <th>37</th>\n      <th>38</th>\n      <th>...</th>\n      <th>81</th>\n      <th>82</th>\n      <th>83</th>\n      <th>84</th>\n      <th>85</th>\n      <th>86</th>\n      <th>87</th>\n      <th>88</th>\n      <th>89</th>\n      <th>90</th>\n      <th>91</th>\n      <th>92</th>\n      <th>93</th>\n      <th>94</th>\n      <th>95</th>\n      <th>96</th>\n      <th>97</th>\n      <th>98</th>\n      <th>99</th>\n      <th>100</th>\n      <th>101</th>\n      <th>102</th>\n      <th>103</th>\n      <th>104</th>\n      <th>105</th>\n      <th>106</th>\n      <th>107</th>\n      <th>108</th>\n      <th>109</th>\n      <th>110</th>\n      <th>111</th>\n      <th>112</th>\n      <th>113</th>\n      <th>114</th>\n      <th>115</th>\n      <th>116</th>\n      <th>117</th>\n      <th>118</th>\n      <th>119</th>\n      <th>120</th>\n    </tr>\n  </thead>\n  <tbody>\n    <tr>\n      <td>0</td>\n      <td>Product A</td>\n      <td>1</td>\n      <td>1</td>\n      <td>0.974277</td>\n      <td>0.983138</td>\n      <td>0.981345</td>\n      <td>0.960939</td>\n      <td>0.966870</td>\n      <td>0.955572</td>\n      <td>0.958963</td>\n      <td>0.948155</td>\n      <td>0.944708</td>\n      <td>0.940629</td>\n      <td>0.938380</td>\n      <td>0.933454</td>\n      <td>0.941349</td>\n      <td>0.928888</td>\n      <td>0.917339</td>\n      <td>0.921429</td>\n      <td>0.930810</td>\n      <td>0.920160</td>\n      <td>0.917790</td>\n      <td>0.903163</td>\n      <td>0.887157</td>\n      <td>0.887056</td>\n      <td>0.895329</td>\n      <td>0.797072</td>\n      <td>0.712769</td>\n      <td>0.653740</td>\n      <td>0.616427</td>\n      <td>0.613946</td>\n      <td>0.578729</td>\n      <td>0.569482</td>\n      <td>0.548247</td>\n      <td>0.549159</td>\n      <td>0.507849</td>\n      <td>0.517154</td>\n      <td>0.481148</td>\n      <td>0.460964</td>\n      <td>0.474679</td>\n      <td>...</td>\n      <td>0.085627</td>\n      <td>0.056817</td>\n      <td>0.074223</td>\n      <td>0.065093</td>\n      <td>0.057336</td>\n      <td>0.068002</td>\n      <td>0.050697</td>\n      <td>0.055354</td>\n      <td>0.060470</td>\n      <td>0.048082</td>\n      <td>0.052652</td>\n      <td>0.042570</td>\n      <td>0.053338</td>\n      <td>0.046909</td>\n      <td>0.026434</td>\n      <td>0.026334</td>\n      <td>0.030634</td>\n      <td>0.030875</td>\n      <td>0.018179</td>\n      <td>0.000000</td>\n      <td>0.000000</td>\n      <td>0.000000</td>\n      <td>0.000000</td>\n      <td>0.000000</td>\n      <td>0.000000</td>\n      <td>0.000000</td>\n      <td>0.000000</td>\n      <td>0.000000</td>\n      <td>0.000000</td>\n      <td>0.000000</td>\n      <td>0.000000</td>\n      <td>0.000000</td>\n      <td>0.000000</td>\n      <td>0.000000</td>\n      <td>0.000000</td>\n      <td>0.000000</td>\n      <td>0.000000</td>\n      <td>0.000000</td>\n      <td>0.000000</td>\n      <td>0.0</td>\n    </tr>\n    <tr>\n      <td>1</td>\n      <td>Product B</td>\n      <td>1</td>\n      <td>1</td>\n      <td>0.965001</td>\n      <td>0.972277</td>\n      <td>0.962384</td>\n      <td>0.966880</td>\n      <td>0.951127</td>\n      <td>0.962494</td>\n      <td>0.940248</td>\n      <td>0.960986</td>\n      <td>0.944520</td>\n      <td>0.956663</td>\n      <td>0.930311</td>\n      <td>0.946387</td>\n      <td>0.914912</td>\n      <td>0.926540</td>\n      <td>0.916084</td>\n      <td>0.905519</td>\n      <td>0.895052</td>\n      <td>0.887755</td>\n      <td>0.899981</td>\n      <td>0.901476</td>\n      <td>0.883865</td>\n      <td>0.877944</td>\n      <td>0.865835</td>\n      <td>0.864290</td>\n      <td>0.858746</td>\n      <td>0.854505</td>\n      <td>0.828302</td>\n      <td>0.817892</td>\n      <td>0.818686</td>\n      <td>0.835202</td>\n      <td>0.796906</td>\n      <td>0.800801</td>\n      <td>0.800750</td>\n      <td>0.786347</td>\n      <td>0.797801</td>\n      <td>0.692315</td>\n      <td>0.619233</td>\n      <td>...</td>\n      <td>0.120025</td>\n      <td>0.135597</td>\n      <td>0.106972</td>\n      <td>0.096006</td>\n      <td>0.102980</td>\n      <td>0.090812</td>\n      <td>0.100421</td>\n      <td>0.084918</td>\n      <td>0.076092</td>\n      <td>0.075657</td>\n      <td>0.067208</td>\n      <td>0.079228</td>\n      <td>0.085776</td>\n      <td>0.052636</td>\n      <td>0.074864</td>\n      <td>0.054074</td>\n      <td>0.052730</td>\n      <td>0.061549</td>\n      <td>0.048576</td>\n      <td>0.060016</td>\n      <td>0.056333</td>\n      <td>0.029007</td>\n      <td>0.031026</td>\n      <td>0.036736</td>\n      <td>0.041041</td>\n      <td>0.032362</td>\n      <td>0.041591</td>\n      <td>0.042052</td>\n      <td>0.024013</td>\n      <td>0.030366</td>\n      <td>0.023581</td>\n      <td>0.020092</td>\n      <td>0.024031</td>\n      <td>0.028435</td>\n      <td>0.029645</td>\n      <td>0.018311</td>\n      <td>0.000000</td>\n      <td>0.000000</td>\n      <td>0.000000</td>\n      <td>0.0</td>\n    </tr>\n    <tr>\n      <td>2</td>\n      <td>Product C</td>\n      <td>1</td>\n      <td>1</td>\n      <td>0.990667</td>\n      <td>0.995642</td>\n      <td>0.978303</td>\n      <td>0.987434</td>\n      <td>0.996079</td>\n      <td>0.994009</td>\n      <td>0.966627</td>\n      <td>0.983410</td>\n      <td>1.000000</td>\n      <td>0.978725</td>\n      <td>0.983681</td>\n      <td>0.956833</td>\n      <td>0.960375</td>\n      <td>0.996198</td>\n      <td>0.961632</td>\n      <td>0.984849</td>\n      <td>0.974309</td>\n      <td>0.963229</td>\n      <td>0.956100</td>\n      <td>0.973861</td>\n      <td>0.950858</td>\n      <td>0.967041</td>\n      <td>0.961184</td>\n      <td>0.968899</td>\n      <td>0.962238</td>\n      <td>0.937619</td>\n      <td>0.946426</td>\n      <td>0.943115</td>\n      <td>0.956479</td>\n      <td>0.926399</td>\n      <td>0.940973</td>\n      <td>0.960181</td>\n      <td>0.951449</td>\n      <td>0.925616</td>\n      <td>0.935806</td>\n      <td>0.919178</td>\n      <td>0.926796</td>\n      <td>...</td>\n      <td>0.258363</td>\n      <td>0.264379</td>\n      <td>0.249030</td>\n      <td>0.272012</td>\n      <td>0.244668</td>\n      <td>0.260035</td>\n      <td>0.255530</td>\n      <td>0.261117</td>\n      <td>0.252458</td>\n      <td>0.256025</td>\n      <td>0.245734</td>\n      <td>0.263940</td>\n      <td>0.261826</td>\n      <td>0.258891</td>\n      <td>0.248507</td>\n      <td>0.273500</td>\n      <td>0.266089</td>\n      <td>0.262017</td>\n      <td>0.257542</td>\n      <td>0.241722</td>\n      <td>0.258131</td>\n      <td>0.248167</td>\n      <td>0.255265</td>\n      <td>0.260049</td>\n      <td>0.244426</td>\n      <td>0.265264</td>\n      <td>0.265982</td>\n      <td>0.249325</td>\n      <td>0.266095</td>\n      <td>0.000000</td>\n      <td>0.000000</td>\n      <td>0.000000</td>\n      <td>0.000000</td>\n      <td>0.000000</td>\n      <td>0.000000</td>\n      <td>0.000000</td>\n      <td>0.000000</td>\n      <td>0.000000</td>\n      <td>0.000000</td>\n      <td>0.0</td>\n    </tr>\n    <tr>\n      <td>3</td>\n      <td>Product D</td>\n      <td>1</td>\n      <td>1</td>\n      <td>0.967297</td>\n      <td>0.963433</td>\n      <td>0.971727</td>\n      <td>0.960517</td>\n      <td>0.969556</td>\n      <td>0.956328</td>\n      <td>0.965504</td>\n      <td>0.973455</td>\n      <td>0.962279</td>\n      <td>0.970308</td>\n      <td>0.949764</td>\n      <td>0.948716</td>\n      <td>0.945909</td>\n      <td>0.945847</td>\n      <td>0.935246</td>\n      <td>0.956218</td>\n      <td>0.924431</td>\n      <td>0.936747</td>\n      <td>0.919903</td>\n      <td>0.911530</td>\n      <td>0.911136</td>\n      <td>0.908233</td>\n      <td>0.901246</td>\n      <td>0.912592</td>\n      <td>0.895979</td>\n      <td>0.887683</td>\n      <td>0.893224</td>\n      <td>0.903302</td>\n      <td>0.875132</td>\n      <td>0.867630</td>\n      <td>0.875300</td>\n      <td>0.869561</td>\n      <td>0.884134</td>\n      <td>0.847475</td>\n      <td>0.859889</td>\n      <td>0.866316</td>\n      <td>0.848554</td>\n      <td>...</td>\n      <td>0.306511</td>\n      <td>0.270158</td>\n      <td>0.258803</td>\n      <td>0.265881</td>\n      <td>0.246222</td>\n      <td>0.241078</td>\n      <td>0.208323</td>\n      <td>0.198399</td>\n      <td>0.193163</td>\n      <td>0.183296</td>\n      <td>0.195431</td>\n      <td>0.164371</td>\n      <td>0.180942</td>\n      <td>0.150964</td>\n      <td>0.163673</td>\n      <td>0.131031</td>\n      <td>0.148003</td>\n      <td>0.137538</td>\n      <td>0.126790</td>\n      <td>0.109386</td>\n      <td>0.120302</td>\n      <td>0.120509</td>\n      <td>0.096515</td>\n      <td>0.104542</td>\n      <td>0.103514</td>\n      <td>0.087640</td>\n      <td>0.076373</td>\n      <td>0.091406</td>\n      <td>0.062376</td>\n      <td>0.059514</td>\n      <td>0.060982</td>\n      <td>0.069007</td>\n      <td>0.055786</td>\n      <td>0.052640</td>\n      <td>0.056147</td>\n      <td>0.048488</td>\n      <td>0.062664</td>\n      <td>0.037634</td>\n      <td>0.037734</td>\n      <td>0.0</td>\n    </tr>\n    <tr>\n      <td>4</td>\n      <td>Product E</td>\n      <td>1</td>\n      <td>1</td>\n      <td>0.987182</td>\n      <td>0.978085</td>\n      <td>1.000000</td>\n      <td>0.997603</td>\n      <td>0.964585</td>\n      <td>0.985005</td>\n      <td>0.955024</td>\n      <td>0.963205</td>\n      <td>0.970512</td>\n      <td>0.960446</td>\n      <td>0.958807</td>\n      <td>0.976756</td>\n      <td>0.956716</td>\n      <td>0.976991</td>\n      <td>0.968188</td>\n      <td>0.953909</td>\n      <td>0.963377</td>\n      <td>0.920266</td>\n      <td>0.889097</td>\n      <td>0.922191</td>\n      <td>0.910636</td>\n      <td>0.911995</td>\n      <td>0.903880</td>\n      <td>0.897920</td>\n      <td>0.812003</td>\n      <td>0.733139</td>\n      <td>0.655321</td>\n      <td>0.635591</td>\n      <td>0.617908</td>\n      <td>0.621103</td>\n      <td>0.600995</td>\n      <td>0.583436</td>\n      <td>0.557214</td>\n      <td>0.556287</td>\n      <td>0.507421</td>\n      <td>0.515208</td>\n      <td>0.503791</td>\n      <td>...</td>\n      <td>0.000000</td>\n      <td>0.000000</td>\n      <td>0.000000</td>\n      <td>0.000000</td>\n      <td>0.000000</td>\n      <td>0.000000</td>\n      <td>0.000000</td>\n      <td>0.000000</td>\n      <td>0.000000</td>\n      <td>0.000000</td>\n      <td>0.000000</td>\n      <td>0.000000</td>\n      <td>0.000000</td>\n      <td>0.000000</td>\n      <td>0.000000</td>\n      <td>0.000000</td>\n      <td>0.000000</td>\n      <td>0.000000</td>\n      <td>0.000000</td>\n      <td>0.000000</td>\n      <td>0.000000</td>\n      <td>0.000000</td>\n      <td>0.000000</td>\n      <td>0.000000</td>\n      <td>0.000000</td>\n      <td>0.000000</td>\n      <td>0.000000</td>\n      <td>0.000000</td>\n      <td>0.000000</td>\n      <td>0.000000</td>\n      <td>0.000000</td>\n      <td>0.000000</td>\n      <td>0.000000</td>\n      <td>0.000000</td>\n      <td>0.000000</td>\n      <td>0.000000</td>\n      <td>0.000000</td>\n      <td>0.000000</td>\n      <td>0.000000</td>\n      <td>0.0</td>\n    </tr>\n  </tbody>\n</table>\n<p>5 rows × 122 columns</p>\n</div>"
     },
     "metadata": {},
     "execution_count": 8
    }
   ],
   "source": [
    "cpr.head()"
   ]
  },
  {
   "cell_type": "code",
   "execution_count": 9,
   "metadata": {},
   "outputs": [
    {
     "output_type": "execute_result",
     "data": {
      "text/plain": "     Product   Month 0   Month 1  ...  Month 118  Month 119  Month 120\n0  Product A  0.023451  0.022499  ...   0.027942   0.020571   0.021961\n1  Product B  0.031411  0.037664  ...   0.025677   0.035159   0.025401\n2  Product C  0.020331  0.021578  ...   0.027322   0.022638   0.028440\n3  Product D  0.005270  0.006673  ...   0.005633   0.005221   0.006872\n4  Product E  0.067553  0.079343  ...   0.084893   0.096494   0.078361\n\n[5 rows x 122 columns]",
      "text/html": "<div>\n<style scoped>\n    .dataframe tbody tr th:only-of-type {\n        vertical-align: middle;\n    }\n\n    .dataframe tbody tr th {\n        vertical-align: top;\n    }\n\n    .dataframe thead th {\n        text-align: right;\n    }\n</style>\n<table border=\"1\" class=\"dataframe\">\n  <thead>\n    <tr style=\"text-align: right;\">\n      <th></th>\n      <th>Product</th>\n      <th>Month 0</th>\n      <th>Month 1</th>\n      <th>Month 2</th>\n      <th>Month 3</th>\n      <th>Month 4</th>\n      <th>Month 5</th>\n      <th>Month 6</th>\n      <th>Month 7</th>\n      <th>Month 8</th>\n      <th>Month 9</th>\n      <th>Month 10</th>\n      <th>Month 11</th>\n      <th>Month 12</th>\n      <th>Month 13</th>\n      <th>Month 14</th>\n      <th>Month 15</th>\n      <th>Month 16</th>\n      <th>Month 17</th>\n      <th>Month 18</th>\n      <th>Month 19</th>\n      <th>Month 20</th>\n      <th>Month 21</th>\n      <th>Month 22</th>\n      <th>Month 23</th>\n      <th>Month 24</th>\n      <th>Month 25</th>\n      <th>Month 26</th>\n      <th>Month 27</th>\n      <th>Month 28</th>\n      <th>Month 29</th>\n      <th>Month 30</th>\n      <th>Month 31</th>\n      <th>Month 32</th>\n      <th>Month 33</th>\n      <th>Month 34</th>\n      <th>Month 35</th>\n      <th>Month 36</th>\n      <th>Month 37</th>\n      <th>Month 38</th>\n      <th>...</th>\n      <th>Month 81</th>\n      <th>Month 82</th>\n      <th>Month 83</th>\n      <th>Month 84</th>\n      <th>Month 85</th>\n      <th>Month 86</th>\n      <th>Month 87</th>\n      <th>Month 88</th>\n      <th>Month 89</th>\n      <th>Month 90</th>\n      <th>Month 91</th>\n      <th>Month 92</th>\n      <th>Month 93</th>\n      <th>Month 94</th>\n      <th>Month 95</th>\n      <th>Month 96</th>\n      <th>Month 97</th>\n      <th>Month 98</th>\n      <th>Month 99</th>\n      <th>Month 100</th>\n      <th>Month 101</th>\n      <th>Month 102</th>\n      <th>Month 103</th>\n      <th>Month 104</th>\n      <th>Month 105</th>\n      <th>Month 106</th>\n      <th>Month 107</th>\n      <th>Month 108</th>\n      <th>Month 109</th>\n      <th>Month 110</th>\n      <th>Month 111</th>\n      <th>Month 112</th>\n      <th>Month 113</th>\n      <th>Month 114</th>\n      <th>Month 115</th>\n      <th>Month 116</th>\n      <th>Month 117</th>\n      <th>Month 118</th>\n      <th>Month 119</th>\n      <th>Month 120</th>\n    </tr>\n  </thead>\n  <tbody>\n    <tr>\n      <td>0</td>\n      <td>Product A</td>\n      <td>0.023451</td>\n      <td>0.022499</td>\n      <td>0.023840</td>\n      <td>0.020951</td>\n      <td>0.027985</td>\n      <td>0.031261</td>\n      <td>0.030891</td>\n      <td>0.029232</td>\n      <td>0.031486</td>\n      <td>0.030706</td>\n      <td>0.029370</td>\n      <td>0.022566</td>\n      <td>0.026849</td>\n      <td>0.026786</td>\n      <td>0.028297</td>\n      <td>0.021665</td>\n      <td>0.022613</td>\n      <td>0.023366</td>\n      <td>0.021795</td>\n      <td>0.029880</td>\n      <td>0.021920</td>\n      <td>0.024771</td>\n      <td>0.025411</td>\n      <td>0.028799</td>\n      <td>0.029840</td>\n      <td>0.028298</td>\n      <td>0.023902</td>\n      <td>0.023264</td>\n      <td>0.025596</td>\n      <td>0.020910</td>\n      <td>0.027684</td>\n      <td>0.022530</td>\n      <td>0.027823</td>\n      <td>0.027105</td>\n      <td>0.026847</td>\n      <td>0.027687</td>\n      <td>0.025251</td>\n      <td>0.021327</td>\n      <td>0.029125</td>\n      <td>...</td>\n      <td>0.029459</td>\n      <td>0.024563</td>\n      <td>0.023302</td>\n      <td>0.028104</td>\n      <td>0.026623</td>\n      <td>0.028895</td>\n      <td>0.029373</td>\n      <td>0.023472</td>\n      <td>0.028391</td>\n      <td>0.028240</td>\n      <td>0.022377</td>\n      <td>0.028879</td>\n      <td>0.028163</td>\n      <td>0.030331</td>\n      <td>0.026426</td>\n      <td>0.022294</td>\n      <td>0.030877</td>\n      <td>0.030540</td>\n      <td>0.026635</td>\n      <td>0.021951</td>\n      <td>0.020300</td>\n      <td>0.026967</td>\n      <td>0.021053</td>\n      <td>0.023956</td>\n      <td>0.028010</td>\n      <td>0.022196</td>\n      <td>0.026580</td>\n      <td>0.031547</td>\n      <td>0.022786</td>\n      <td>0.023449</td>\n      <td>0.023264</td>\n      <td>0.030246</td>\n      <td>0.027078</td>\n      <td>0.023440</td>\n      <td>0.024636</td>\n      <td>0.030245</td>\n      <td>0.029782</td>\n      <td>0.027942</td>\n      <td>0.020571</td>\n      <td>0.021961</td>\n    </tr>\n    <tr>\n      <td>1</td>\n      <td>Product B</td>\n      <td>0.031411</td>\n      <td>0.037664</td>\n      <td>0.035266</td>\n      <td>0.035257</td>\n      <td>0.029754</td>\n      <td>0.028077</td>\n      <td>0.029840</td>\n      <td>0.029007</td>\n      <td>0.025610</td>\n      <td>0.034641</td>\n      <td>0.026246</td>\n      <td>0.030675</td>\n      <td>0.035450</td>\n      <td>0.026282</td>\n      <td>0.033784</td>\n      <td>0.034032</td>\n      <td>0.037855</td>\n      <td>0.032433</td>\n      <td>0.026973</td>\n      <td>0.031108</td>\n      <td>0.037869</td>\n      <td>0.027983</td>\n      <td>0.036212</td>\n      <td>0.028518</td>\n      <td>0.029636</td>\n      <td>0.035737</td>\n      <td>0.032564</td>\n      <td>0.029226</td>\n      <td>0.034820</td>\n      <td>0.035070</td>\n      <td>0.036680</td>\n      <td>0.033740</td>\n      <td>0.025195</td>\n      <td>0.026297</td>\n      <td>0.029406</td>\n      <td>0.035567</td>\n      <td>0.029634</td>\n      <td>0.035295</td>\n      <td>0.025471</td>\n      <td>...</td>\n      <td>0.027787</td>\n      <td>0.036573</td>\n      <td>0.033327</td>\n      <td>0.027594</td>\n      <td>0.030009</td>\n      <td>0.028246</td>\n      <td>0.030322</td>\n      <td>0.035855</td>\n      <td>0.032956</td>\n      <td>0.038690</td>\n      <td>0.032035</td>\n      <td>0.034175</td>\n      <td>0.032330</td>\n      <td>0.036856</td>\n      <td>0.026029</td>\n      <td>0.033186</td>\n      <td>0.032816</td>\n      <td>0.033039</td>\n      <td>0.033928</td>\n      <td>0.037911</td>\n      <td>0.038725</td>\n      <td>0.037277</td>\n      <td>0.038430</td>\n      <td>0.029781</td>\n      <td>0.031029</td>\n      <td>0.026517</td>\n      <td>0.031982</td>\n      <td>0.031280</td>\n      <td>0.034757</td>\n      <td>0.029624</td>\n      <td>0.025242</td>\n      <td>0.029839</td>\n      <td>0.037438</td>\n      <td>0.027442</td>\n      <td>0.027768</td>\n      <td>0.031506</td>\n      <td>0.037209</td>\n      <td>0.025677</td>\n      <td>0.035159</td>\n      <td>0.025401</td>\n    </tr>\n    <tr>\n      <td>2</td>\n      <td>Product C</td>\n      <td>0.020331</td>\n      <td>0.021578</td>\n      <td>0.026381</td>\n      <td>0.022798</td>\n      <td>0.023268</td>\n      <td>0.019685</td>\n      <td>0.029310</td>\n      <td>0.022133</td>\n      <td>0.020853</td>\n      <td>0.022897</td>\n      <td>0.020822</td>\n      <td>0.027249</td>\n      <td>0.024583</td>\n      <td>0.024954</td>\n      <td>0.023631</td>\n      <td>0.019384</td>\n      <td>0.021383</td>\n      <td>0.028335</td>\n      <td>0.020602</td>\n      <td>0.021056</td>\n      <td>0.027314</td>\n      <td>0.020603</td>\n      <td>0.021386</td>\n      <td>0.021330</td>\n      <td>0.019874</td>\n      <td>0.023593</td>\n      <td>0.019392</td>\n      <td>0.021878</td>\n      <td>0.022772</td>\n      <td>0.029232</td>\n      <td>0.022375</td>\n      <td>0.019100</td>\n      <td>0.023495</td>\n      <td>0.026638</td>\n      <td>0.026071</td>\n      <td>0.019214</td>\n      <td>0.027954</td>\n      <td>0.024783</td>\n      <td>0.019388</td>\n      <td>...</td>\n      <td>0.029382</td>\n      <td>0.020630</td>\n      <td>0.020138</td>\n      <td>0.024560</td>\n      <td>0.025979</td>\n      <td>0.028458</td>\n      <td>0.021961</td>\n      <td>0.024519</td>\n      <td>0.028570</td>\n      <td>0.026702</td>\n      <td>0.028960</td>\n      <td>0.026929</td>\n      <td>0.021023</td>\n      <td>0.026723</td>\n      <td>0.025286</td>\n      <td>0.024962</td>\n      <td>0.024758</td>\n      <td>0.026098</td>\n      <td>0.029211</td>\n      <td>0.022295</td>\n      <td>0.020148</td>\n      <td>0.020764</td>\n      <td>0.022793</td>\n      <td>0.026247</td>\n      <td>0.025987</td>\n      <td>0.022167</td>\n      <td>0.024392</td>\n      <td>0.029064</td>\n      <td>0.027742</td>\n      <td>0.028988</td>\n      <td>0.028119</td>\n      <td>0.025273</td>\n      <td>0.021198</td>\n      <td>0.028104</td>\n      <td>0.024323</td>\n      <td>0.026807</td>\n      <td>0.028925</td>\n      <td>0.027322</td>\n      <td>0.022638</td>\n      <td>0.028440</td>\n    </tr>\n    <tr>\n      <td>3</td>\n      <td>Product D</td>\n      <td>0.005270</td>\n      <td>0.006673</td>\n      <td>0.005311</td>\n      <td>0.006416</td>\n      <td>0.006424</td>\n      <td>0.006863</td>\n      <td>0.006582</td>\n      <td>0.006319</td>\n      <td>0.004708</td>\n      <td>0.006595</td>\n      <td>0.005281</td>\n      <td>0.005316</td>\n      <td>0.006630</td>\n      <td>0.006538</td>\n      <td>0.005925</td>\n      <td>0.005427</td>\n      <td>0.005278</td>\n      <td>0.006812</td>\n      <td>0.006800</td>\n      <td>0.006273</td>\n      <td>0.005895</td>\n      <td>0.005896</td>\n      <td>0.005073</td>\n      <td>0.004950</td>\n      <td>0.005272</td>\n      <td>0.006038</td>\n      <td>0.005582</td>\n      <td>0.005464</td>\n      <td>0.006069</td>\n      <td>0.006530</td>\n      <td>0.004993</td>\n      <td>0.006559</td>\n      <td>0.006754</td>\n      <td>0.006440</td>\n      <td>0.006799</td>\n      <td>0.005891</td>\n      <td>0.005175</td>\n      <td>0.006842</td>\n      <td>0.006976</td>\n      <td>...</td>\n      <td>0.006384</td>\n      <td>0.006288</td>\n      <td>0.006236</td>\n      <td>0.005299</td>\n      <td>0.004992</td>\n      <td>0.004717</td>\n      <td>0.006597</td>\n      <td>0.004697</td>\n      <td>0.006396</td>\n      <td>0.005703</td>\n      <td>0.005789</td>\n      <td>0.005310</td>\n      <td>0.006197</td>\n      <td>0.006934</td>\n      <td>0.005106</td>\n      <td>0.006015</td>\n      <td>0.005408</td>\n      <td>0.006004</td>\n      <td>0.005474</td>\n      <td>0.005884</td>\n      <td>0.004781</td>\n      <td>0.004552</td>\n      <td>0.004706</td>\n      <td>0.006279</td>\n      <td>0.005876</td>\n      <td>0.004970</td>\n      <td>0.005974</td>\n      <td>0.006043</td>\n      <td>0.005996</td>\n      <td>0.006584</td>\n      <td>0.005675</td>\n      <td>0.006023</td>\n      <td>0.004670</td>\n      <td>0.005090</td>\n      <td>0.005491</td>\n      <td>0.005025</td>\n      <td>0.005193</td>\n      <td>0.005633</td>\n      <td>0.005221</td>\n      <td>0.006872</td>\n    </tr>\n    <tr>\n      <td>4</td>\n      <td>Product E</td>\n      <td>0.067553</td>\n      <td>0.079343</td>\n      <td>0.078965</td>\n      <td>0.086411</td>\n      <td>0.066469</td>\n      <td>0.073358</td>\n      <td>0.091546</td>\n      <td>0.071174</td>\n      <td>0.093933</td>\n      <td>0.071741</td>\n      <td>0.096020</td>\n      <td>0.069230</td>\n      <td>0.064124</td>\n      <td>0.072866</td>\n      <td>0.093662</td>\n      <td>0.085044</td>\n      <td>0.074219</td>\n      <td>0.072085</td>\n      <td>0.090201</td>\n      <td>0.077823</td>\n      <td>0.079602</td>\n      <td>0.080475</td>\n      <td>0.072435</td>\n      <td>0.069958</td>\n      <td>0.070644</td>\n      <td>0.079104</td>\n      <td>0.091161</td>\n      <td>0.087184</td>\n      <td>0.095138</td>\n      <td>0.069634</td>\n      <td>0.064900</td>\n      <td>0.077633</td>\n      <td>0.076793</td>\n      <td>0.081739</td>\n      <td>0.089335</td>\n      <td>0.095532</td>\n      <td>0.082980</td>\n      <td>0.065796</td>\n      <td>0.096393</td>\n      <td>...</td>\n      <td>0.095662</td>\n      <td>0.089220</td>\n      <td>0.094572</td>\n      <td>0.077581</td>\n      <td>0.093071</td>\n      <td>0.065760</td>\n      <td>0.075539</td>\n      <td>0.089721</td>\n      <td>0.082210</td>\n      <td>0.076839</td>\n      <td>0.074717</td>\n      <td>0.082148</td>\n      <td>0.076296</td>\n      <td>0.091782</td>\n      <td>0.065584</td>\n      <td>0.063944</td>\n      <td>0.090312</td>\n      <td>0.077850</td>\n      <td>0.094536</td>\n      <td>0.075050</td>\n      <td>0.063362</td>\n      <td>0.075118</td>\n      <td>0.087214</td>\n      <td>0.064303</td>\n      <td>0.067591</td>\n      <td>0.082080</td>\n      <td>0.080915</td>\n      <td>0.073406</td>\n      <td>0.070011</td>\n      <td>0.081783</td>\n      <td>0.086785</td>\n      <td>0.081882</td>\n      <td>0.080293</td>\n      <td>0.095875</td>\n      <td>0.070352</td>\n      <td>0.095765</td>\n      <td>0.086799</td>\n      <td>0.084893</td>\n      <td>0.096494</td>\n      <td>0.078361</td>\n    </tr>\n  </tbody>\n</table>\n<p>5 rows × 122 columns</p>\n</div>"
     },
     "metadata": {},
     "execution_count": 9
    }
   ],
   "source": [
    "erc_lookup.head()"
   ]
  },
  {
   "cell_type": "code",
   "execution_count": 10,
   "metadata": {},
   "outputs": [],
   "source": [
    "#calculating amount that is repayed monthly, both before and after reversion date\n",
    "loanbook['monthly_repay'] = pd.Series(\n",
    "    -np.pmt(\n",
    "        loanbook['initial_rate']/12,\n",
    "        loanbook['term'],\n",
    "        loanbook['loan_amount']\n",
    "    ),\n",
    "    index = loanbook.index\n",
    ")\n"
   ]
  },
  {
   "cell_type": "markdown",
   "metadata": {},
   "source": [
    "Personal notes: np.pmt computes the payment against loan principal plus interest"
   ]
  },
  {
   "cell_type": "code",
   "execution_count": 13,
   "metadata": {},
   "outputs": [],
   "source": [
    "#For monthly_repay_reversion, reversion_balance must first be calculated. Reversion_balance will then replace loan_amount in the np.pmt calculation\n",
    "def remaining_amount(rate, term, loan_amount, period):\n",
    "    '''\n",
    "    The function returns the remaining amount.\n",
    "\n",
    "    First the principal_paid will be initialized.\n",
    "    Then the montlhy_repay amount will be calculated\n",
    "    The loan amount will then be subtracted.\n",
    "    The cumulative amount paid will be done through iteration. Note that the data has months start at month 0, so range is period - 1\n",
    "\n",
    "    Returns amount paid \n",
    "    '''\n",
    "    principal_paid = 0 \n",
    "    \n",
    "    monthly_repay = -np.pmt(rate, term, loan_amount, 0, 1)\n",
    "\n",
    "    loan_amount = loan_amount - monthly_repay\n",
    "\n",
    "    for i in range(period - 1): \n",
    "        month_interest = loan_amount * rate\n",
    "        paid_off = monthly_repay - month_interest\n",
    "        loan_amount = loan_amount - paid_off\n",
    "\n",
    "    return loan_amount "
   ]
  },
  {
   "cell_type": "code",
   "execution_count": 14,
   "metadata": {},
   "outputs": [],
   "source": [
    "#Now the goal is to add th reversion balance (leftover loan_amount at the reversion date)\n",
    "\n",
    "#initializing for the next loop\n",
    "loanbook['reversion_balance'] = 0 \n",
    "loanbook['monthly_repay_reversion'] = 0\n",
    "\n",
    "#first calculate the leftover loan amount on reversion date and add it to the reversion_balance columns\n",
    "for i in range(len(loanbook)):\n",
    "    loanbook['reversion_balance'].iloc[i] = remaining_amount(\n",
    "        loanbook['initial_rate'].iloc[i]/12,\n",
    "        loanbook['term'].iloc[i],\n",
    "        loanbook['loan_amount'].iloc[i],\n",
    "        loanbook['rate_term'].iloc[i]*12\n",
    "    )\n"
   ]
  },
  {
   "cell_type": "code",
   "execution_count": 17,
   "metadata": {},
   "outputs": [],
   "source": [
    "#now calculate the monthly repay amount after the reversion date\n",
    "loanbook['monthly_repay_reversion'] = pd.Series(\n",
    "    -np.pmt(\n",
    "        loanbook['reversion_rate']/12,\n",
    "        loanbook['term'] - loanbook['rate_term'] * 12,\n",
    "        loanbook['reversion_balance']\n",
    "    ),\n",
    "    index = loanbook.index\n",
    ")"
   ]
  }
 ],
 "metadata": {
  "language_info": {
   "codemirror_mode": {
    "name": "ipython",
    "version": 3
   },
   "file_extension": ".py",
   "mimetype": "text/x-python",
   "name": "python",
   "nbconvert_exporter": "python",
   "pygments_lexer": "ipython3",
   "version": "3.7.4-final"
  },
  "orig_nbformat": 2,
  "kernelspec": {
   "name": "python3",
   "display_name": "Python 3"
  }
 },
 "nbformat": 4,
 "nbformat_minor": 2
}